{
  "nbformat": 4,
  "nbformat_minor": 0,
  "metadata": {
    "colab": {
      "name": "Diabetes Prediction.ipynb",
      "provenance": [],
      "collapsed_sections": [
        "vwG3Pgu4GGSv"
      ],
      "include_colab_link": true
    },
    "kernelspec": {
      "name": "python3",
      "display_name": "Python 3"
    },
    "language_info": {
      "name": "python"
    }
  },
  "cells": [
    {
      "cell_type": "markdown",
      "metadata": {
        "id": "view-in-github",
        "colab_type": "text"
      },
      "source": [
        "<a href=\"https://colab.research.google.com/github/fahmi-nugroho/Proyek-Capstone-CSD-101/blob/main/Diabetes_Prediction.ipynb\" target=\"_parent\"><img src=\"https://colab.research.google.com/assets/colab-badge.svg\" alt=\"Open In Colab\"/></a>"
      ]
    },
    {
      "cell_type": "markdown",
      "metadata": {
        "id": "vwG3Pgu4GGSv"
      },
      "source": [
        "# Import Library"
      ]
    },
    {
      "cell_type": "code",
      "metadata": {
        "id": "UJG9BWy9GK6H"
      },
      "source": [
        "import pandas as pd\n",
        "import numpy as np\n",
        "import joblib\n",
        "from zipfile import ZipFile\n",
        "from sklearn.model_selection import train_test_split\n",
        "from sklearn.preprocessing import StandardScaler\n",
        "from sklearn.linear_model import LogisticRegression\n",
        "from sklearn.neighbors import KNeighborsClassifier\n",
        "from sklearn.ensemble import RandomForestClassifier\n",
        "from sklearn.metrics import classification_report, confusion_matrix, accuracy_score"
      ],
      "execution_count": 32,
      "outputs": []
    },
    {
      "cell_type": "markdown",
      "metadata": {
        "id": "u5M03D3qA28f"
      },
      "source": [
        "# Data Understanding"
      ]
    },
    {
      "cell_type": "markdown",
      "metadata": {
        "id": "8-PS9jB3GNKX"
      },
      "source": [
        "## Data Loading"
      ]
    },
    {
      "cell_type": "code",
      "metadata": {
        "colab": {
          "base_uri": "https://localhost:8080/"
        },
        "id": "VYHvjfvMCK2x",
        "outputId": "6afe9335-412b-4f31-e7a4-acf5773f4fbd"
      },
      "source": [
        "#Download dataset from Kaggle\n",
        "! pip install kaggle\n",
        "\n",
        "! mkdir ~/.kaggle\n",
        "! cp kaggle.json ~/.kaggle/\n",
        "! chmod 600 ~/.kaggle/kaggle.json\n",
        "! kaggle datasets download ishandutta/early-stage-diabetes-risk-prediction-dataset"
      ],
      "execution_count": 2,
      "outputs": [
        {
          "output_type": "stream",
          "name": "stdout",
          "text": [
            "Requirement already satisfied: kaggle in /usr/local/lib/python3.7/dist-packages (1.5.12)\n",
            "Requirement already satisfied: requests in /usr/local/lib/python3.7/dist-packages (from kaggle) (2.23.0)\n",
            "Requirement already satisfied: python-slugify in /usr/local/lib/python3.7/dist-packages (from kaggle) (5.0.2)\n",
            "Requirement already satisfied: urllib3 in /usr/local/lib/python3.7/dist-packages (from kaggle) (1.24.3)\n",
            "Requirement already satisfied: python-dateutil in /usr/local/lib/python3.7/dist-packages (from kaggle) (2.8.2)\n",
            "Requirement already satisfied: tqdm in /usr/local/lib/python3.7/dist-packages (from kaggle) (4.62.3)\n",
            "Requirement already satisfied: six>=1.10 in /usr/local/lib/python3.7/dist-packages (from kaggle) (1.15.0)\n",
            "Requirement already satisfied: certifi in /usr/local/lib/python3.7/dist-packages (from kaggle) (2021.10.8)\n",
            "Requirement already satisfied: text-unidecode>=1.3 in /usr/local/lib/python3.7/dist-packages (from python-slugify->kaggle) (1.3)\n",
            "Requirement already satisfied: chardet<4,>=3.0.2 in /usr/local/lib/python3.7/dist-packages (from requests->kaggle) (3.0.4)\n",
            "Requirement already satisfied: idna<3,>=2.5 in /usr/local/lib/python3.7/dist-packages (from requests->kaggle) (2.10)\n",
            "Downloading early-stage-diabetes-risk-prediction-dataset.zip to /content\n",
            "  0% 0.00/2.52k [00:00<?, ?B/s]\n",
            "100% 2.52k/2.52k [00:00<00:00, 4.28MB/s]\n"
          ]
        }
      ]
    },
    {
      "cell_type": "code",
      "metadata": {
        "id": "PRPaliTcAUqn",
        "colab": {
          "base_uri": "https://localhost:8080/"
        },
        "outputId": "79662a2c-22c8-4ea4-e8dc-9923b1f95867"
      },
      "source": [
        "!unzip /content/early-stage-diabetes-risk-prediction-dataset.zip"
      ],
      "execution_count": 3,
      "outputs": [
        {
          "output_type": "stream",
          "name": "stdout",
          "text": [
            "Archive:  /content/early-stage-diabetes-risk-prediction-dataset.zip\n",
            "  inflating: diabetes_data_upload.csv  \n"
          ]
        }
      ]
    },
    {
      "cell_type": "code",
      "metadata": {
        "id": "6sgC0i7oDojC",
        "colab": {
          "base_uri": "https://localhost:8080/",
          "height": 261
        },
        "outputId": "27350fc6-d76a-474f-af96-7a819de4f17e"
      },
      "source": [
        "diabet_data = pd.read_csv('/content/diabetes_data_upload.csv')\n",
        "diabet_data.head()"
      ],
      "execution_count": 4,
      "outputs": [
        {
          "output_type": "execute_result",
          "data": {
            "text/html": [
              "<div>\n",
              "<style scoped>\n",
              "    .dataframe tbody tr th:only-of-type {\n",
              "        vertical-align: middle;\n",
              "    }\n",
              "\n",
              "    .dataframe tbody tr th {\n",
              "        vertical-align: top;\n",
              "    }\n",
              "\n",
              "    .dataframe thead th {\n",
              "        text-align: right;\n",
              "    }\n",
              "</style>\n",
              "<table border=\"1\" class=\"dataframe\">\n",
              "  <thead>\n",
              "    <tr style=\"text-align: right;\">\n",
              "      <th></th>\n",
              "      <th>Age</th>\n",
              "      <th>Gender</th>\n",
              "      <th>Polyuria</th>\n",
              "      <th>Polydipsia</th>\n",
              "      <th>sudden weight loss</th>\n",
              "      <th>weakness</th>\n",
              "      <th>Polyphagia</th>\n",
              "      <th>Genital thrush</th>\n",
              "      <th>visual blurring</th>\n",
              "      <th>Itching</th>\n",
              "      <th>Irritability</th>\n",
              "      <th>delayed healing</th>\n",
              "      <th>partial paresis</th>\n",
              "      <th>muscle stiffness</th>\n",
              "      <th>Alopecia</th>\n",
              "      <th>Obesity</th>\n",
              "      <th>class</th>\n",
              "    </tr>\n",
              "  </thead>\n",
              "  <tbody>\n",
              "    <tr>\n",
              "      <th>0</th>\n",
              "      <td>40</td>\n",
              "      <td>Male</td>\n",
              "      <td>No</td>\n",
              "      <td>Yes</td>\n",
              "      <td>No</td>\n",
              "      <td>Yes</td>\n",
              "      <td>No</td>\n",
              "      <td>No</td>\n",
              "      <td>No</td>\n",
              "      <td>Yes</td>\n",
              "      <td>No</td>\n",
              "      <td>Yes</td>\n",
              "      <td>No</td>\n",
              "      <td>Yes</td>\n",
              "      <td>Yes</td>\n",
              "      <td>Yes</td>\n",
              "      <td>Positive</td>\n",
              "    </tr>\n",
              "    <tr>\n",
              "      <th>1</th>\n",
              "      <td>58</td>\n",
              "      <td>Male</td>\n",
              "      <td>No</td>\n",
              "      <td>No</td>\n",
              "      <td>No</td>\n",
              "      <td>Yes</td>\n",
              "      <td>No</td>\n",
              "      <td>No</td>\n",
              "      <td>Yes</td>\n",
              "      <td>No</td>\n",
              "      <td>No</td>\n",
              "      <td>No</td>\n",
              "      <td>Yes</td>\n",
              "      <td>No</td>\n",
              "      <td>Yes</td>\n",
              "      <td>No</td>\n",
              "      <td>Positive</td>\n",
              "    </tr>\n",
              "    <tr>\n",
              "      <th>2</th>\n",
              "      <td>41</td>\n",
              "      <td>Male</td>\n",
              "      <td>Yes</td>\n",
              "      <td>No</td>\n",
              "      <td>No</td>\n",
              "      <td>Yes</td>\n",
              "      <td>Yes</td>\n",
              "      <td>No</td>\n",
              "      <td>No</td>\n",
              "      <td>Yes</td>\n",
              "      <td>No</td>\n",
              "      <td>Yes</td>\n",
              "      <td>No</td>\n",
              "      <td>Yes</td>\n",
              "      <td>Yes</td>\n",
              "      <td>No</td>\n",
              "      <td>Positive</td>\n",
              "    </tr>\n",
              "    <tr>\n",
              "      <th>3</th>\n",
              "      <td>45</td>\n",
              "      <td>Male</td>\n",
              "      <td>No</td>\n",
              "      <td>No</td>\n",
              "      <td>Yes</td>\n",
              "      <td>Yes</td>\n",
              "      <td>Yes</td>\n",
              "      <td>Yes</td>\n",
              "      <td>No</td>\n",
              "      <td>Yes</td>\n",
              "      <td>No</td>\n",
              "      <td>Yes</td>\n",
              "      <td>No</td>\n",
              "      <td>No</td>\n",
              "      <td>No</td>\n",
              "      <td>No</td>\n",
              "      <td>Positive</td>\n",
              "    </tr>\n",
              "    <tr>\n",
              "      <th>4</th>\n",
              "      <td>60</td>\n",
              "      <td>Male</td>\n",
              "      <td>Yes</td>\n",
              "      <td>Yes</td>\n",
              "      <td>Yes</td>\n",
              "      <td>Yes</td>\n",
              "      <td>Yes</td>\n",
              "      <td>No</td>\n",
              "      <td>Yes</td>\n",
              "      <td>Yes</td>\n",
              "      <td>Yes</td>\n",
              "      <td>Yes</td>\n",
              "      <td>Yes</td>\n",
              "      <td>Yes</td>\n",
              "      <td>Yes</td>\n",
              "      <td>Yes</td>\n",
              "      <td>Positive</td>\n",
              "    </tr>\n",
              "  </tbody>\n",
              "</table>\n",
              "</div>"
            ],
            "text/plain": [
              "   Age Gender Polyuria Polydipsia  ... muscle stiffness Alopecia Obesity     class\n",
              "0   40   Male       No        Yes  ...              Yes      Yes     Yes  Positive\n",
              "1   58   Male       No         No  ...               No      Yes      No  Positive\n",
              "2   41   Male      Yes         No  ...              Yes      Yes      No  Positive\n",
              "3   45   Male       No         No  ...               No       No      No  Positive\n",
              "4   60   Male      Yes        Yes  ...              Yes      Yes     Yes  Positive\n",
              "\n",
              "[5 rows x 17 columns]"
            ]
          },
          "metadata": {},
          "execution_count": 4
        }
      ]
    },
    {
      "cell_type": "markdown",
      "metadata": {
        "id": "1zIqzruxGhQ1"
      },
      "source": [
        "## Deskripsi Variabel\n",
        "\n"
      ]
    },
    {
      "cell_type": "markdown",
      "metadata": {
        "id": "pssG6FixGtq-"
      },
      "source": [
        "1. Age : Usia pasien\n",
        "2. Gender : Jenis kelamin pasien\n",
        "3. Polyuria : Keseringan buang air kecil\n",
        "4. Polydipsia : Banyak minum\n",
        "5. Sudden weight loss : Penurunan berat badan secara drastis\n",
        "6. weakness : Lemas\n",
        "7. Polyphagia : Nafsu makan berlebih\n",
        "8. Genital thrush : Infeksi kelamin\n",
        "9. Visual blurring : Pandangan kabur\n",
        "10. Itching : Rasa gatal berlebih\n",
        "11. Irritability : Perubahan mood\n",
        "12. Delayed healing : Proses penyembuhan yang lama\n",
        "13. Partial paresis : Melemahnya gerakan badan\n",
        "14. Muscle stiffness : Kakunya otot\n",
        "15. Alopecia : Kerontokan rambut\n",
        "16. Obesity : Obesitas\n",
        "17. Class : Kategori pasien"
      ]
    },
    {
      "cell_type": "code",
      "metadata": {
        "colab": {
          "base_uri": "https://localhost:8080/"
        },
        "id": "IjGUMbJSIdam",
        "outputId": "132bdfb2-35ff-4697-8059-b49c6cffc499"
      },
      "source": [
        "diabet_data.info()"
      ],
      "execution_count": 5,
      "outputs": [
        {
          "output_type": "stream",
          "name": "stdout",
          "text": [
            "<class 'pandas.core.frame.DataFrame'>\n",
            "RangeIndex: 520 entries, 0 to 519\n",
            "Data columns (total 17 columns):\n",
            " #   Column              Non-Null Count  Dtype \n",
            "---  ------              --------------  ----- \n",
            " 0   Age                 520 non-null    int64 \n",
            " 1   Gender              520 non-null    object\n",
            " 2   Polyuria            520 non-null    object\n",
            " 3   Polydipsia          520 non-null    object\n",
            " 4   sudden weight loss  520 non-null    object\n",
            " 5   weakness            520 non-null    object\n",
            " 6   Polyphagia          520 non-null    object\n",
            " 7   Genital thrush      520 non-null    object\n",
            " 8   visual blurring     520 non-null    object\n",
            " 9   Itching             520 non-null    object\n",
            " 10  Irritability        520 non-null    object\n",
            " 11  delayed healing     520 non-null    object\n",
            " 12  partial paresis     520 non-null    object\n",
            " 13  muscle stiffness    520 non-null    object\n",
            " 14  Alopecia            520 non-null    object\n",
            " 15  Obesity             520 non-null    object\n",
            " 16  class               520 non-null    object\n",
            "dtypes: int64(1), object(16)\n",
            "memory usage: 69.2+ KB\n"
          ]
        }
      ]
    },
    {
      "cell_type": "markdown",
      "metadata": {
        "id": "pt_XKdKEGTC-"
      },
      "source": [
        "## Mengecek Missing Value"
      ]
    },
    {
      "cell_type": "code",
      "metadata": {
        "colab": {
          "base_uri": "https://localhost:8080/"
        },
        "id": "uktBYRKLEkqP",
        "outputId": "39974ae3-4913-4d59-96cf-aa6760d68a1c"
      },
      "source": [
        "diabet_data.isna().sum()"
      ],
      "execution_count": 6,
      "outputs": [
        {
          "output_type": "execute_result",
          "data": {
            "text/plain": [
              "Age                   0\n",
              "Gender                0\n",
              "Polyuria              0\n",
              "Polydipsia            0\n",
              "sudden weight loss    0\n",
              "weakness              0\n",
              "Polyphagia            0\n",
              "Genital thrush        0\n",
              "visual blurring       0\n",
              "Itching               0\n",
              "Irritability          0\n",
              "delayed healing       0\n",
              "partial paresis       0\n",
              "muscle stiffness      0\n",
              "Alopecia              0\n",
              "Obesity               0\n",
              "class                 0\n",
              "dtype: int64"
            ]
          },
          "metadata": {},
          "execution_count": 6
        }
      ]
    },
    {
      "cell_type": "markdown",
      "metadata": {
        "id": "aSfaLK40A7Kg"
      },
      "source": [
        "# Data Preparation"
      ]
    },
    {
      "cell_type": "markdown",
      "metadata": {
        "id": "azEr72T7Qm7k"
      },
      "source": [
        "## Encoding Fitur"
      ]
    },
    {
      "cell_type": "code",
      "metadata": {
        "id": "3gP5G80GA8--"
      },
      "source": [
        "diabet_data['Gender'] = diabet_data ['Gender'].replace({'Female':0,'Male':1 })\n",
        "diabet_data['class'] = diabet_data ['class'].replace({'Negative':0,'Positive':1 })\n",
        "\n",
        "for column in diabet_data.columns.drop(['Age','Gender','class']):\n",
        "  diabet_data[column]= diabet_data[column].replace({'No':0 , 'Yes': 1})\n",
        "\n",
        "diabet_data.head()"
      ],
      "execution_count": null,
      "outputs": []
    },
    {
      "cell_type": "markdown",
      "metadata": {
        "id": "9GUq_XyLQpSN"
      },
      "source": [
        "## Pembagian Dataset"
      ]
    },
    {
      "cell_type": "code",
      "metadata": {
        "id": "k0EjiUbNQvOE"
      },
      "source": [
        "X = diabet_data.drop([\"class\"],axis =1)\n",
        "y = diabet_data[\"class\"]\n",
        "X_train, X_test, y_train, y_test = train_test_split(X, y, test_size = 0.2)"
      ],
      "execution_count": 8,
      "outputs": []
    },
    {
      "cell_type": "markdown",
      "metadata": {
        "id": "8xq-Ty7sZhPM"
      },
      "source": [
        "## Standarisasi Data"
      ]
    },
    {
      "cell_type": "code",
      "metadata": {
        "id": "fMRyATgQZm1l"
      },
      "source": [
        "scaler_train = StandardScaler()\n",
        "scaler_train.fit(X_train)\n",
        "X_train = scaler_train.transform(X_train)\n",
        "\n",
        "scaler_val = StandardScaler()\n",
        "scaler_val.fit(X_test)\n",
        "X_test = scaler_val.transform(X_test)"
      ],
      "execution_count": 9,
      "outputs": []
    },
    {
      "cell_type": "markdown",
      "metadata": {
        "id": "lQbh5huJBZc4"
      },
      "source": [
        "# Modelling dan Training"
      ]
    },
    {
      "cell_type": "markdown",
      "metadata": {
        "id": "C7SNfrkGcWa0"
      },
      "source": [
        "## Logistic Regression"
      ]
    },
    {
      "cell_type": "code",
      "metadata": {
        "id": "SSmKab9kBgU7"
      },
      "source": [
        "lr = LogisticRegression()\n",
        "lr.fit(X_train, y_train)\n",
        "y_pred_lr = lr.predict(X_test)"
      ],
      "execution_count": 10,
      "outputs": []
    },
    {
      "cell_type": "markdown",
      "metadata": {
        "id": "HuOs3J10caMG"
      },
      "source": [
        "## K-NearstNeighbors"
      ]
    },
    {
      "cell_type": "code",
      "metadata": {
        "id": "wKQdxoHScf-7"
      },
      "source": [
        "knn = KNeighborsClassifier(n_neighbors = 2)\n",
        "knn.fit(X_train, y_train)\n",
        "y_pred_knn = knn.predict(X_test)"
      ],
      "execution_count": 11,
      "outputs": []
    },
    {
      "cell_type": "markdown",
      "metadata": {
        "id": "nTzm3RaOcgMs"
      },
      "source": [
        "## Randomforest"
      ]
    },
    {
      "cell_type": "code",
      "metadata": {
        "id": "aoKY3TGIdiUd"
      },
      "source": [
        "rf = RandomForestClassifier()\n",
        "rf.fit(X_train, y_train)\n",
        "y_pred_rf = rf.predict(X_test)"
      ],
      "execution_count": 12,
      "outputs": []
    },
    {
      "cell_type": "markdown",
      "metadata": {
        "id": "iwxYDuColj5_"
      },
      "source": [
        "# Testing dan Evaluasi Model"
      ]
    },
    {
      "cell_type": "code",
      "metadata": {
        "colab": {
          "base_uri": "https://localhost:8080/"
        },
        "id": "mihzxNwslxIT",
        "outputId": "fd94a66a-be94-4ac0-b843-a05b2d13c20d"
      },
      "source": [
        "print('==================== Logistic Regression ====================')\n",
        "print('=> Confusion Matrix')\n",
        "print(confusion_matrix(y_test,y_pred_lr))\n",
        "print('=> Classification Report')\n",
        "print(classification_report(y_test,y_pred_lr))\n",
        "print('=> Accuracy Score')\n",
        "print(accuracy_score(y_test, y_pred_lr))\n",
        "\n",
        "print('\\n\\n\\n==================== K-Nearest Neighbor ====================')\n",
        "\n",
        "print('=> Confusion Matrix')\n",
        "print(confusion_matrix(y_test,y_pred_knn))\n",
        "print('=> Classification Report')\n",
        "print(classification_report(y_test,y_pred_knn))\n",
        "print('=> Accuracy Score')\n",
        "print(accuracy_score(y_test, y_pred_knn))\n",
        "\n",
        "print('\\n\\n\\n==================== Random Forest ====================')\n",
        "print('=> Confusion Matrix')\n",
        "print(confusion_matrix(y_test,y_pred_rf))\n",
        "print('=> Classification Report')\n",
        "print(classification_report(y_test,y_pred_rf))\n",
        "print('=> Accuracy Score')\n",
        "print(accuracy_score(y_test, y_pred_rf))"
      ],
      "execution_count": 16,
      "outputs": [
        {
          "output_type": "stream",
          "name": "stdout",
          "text": [
            "\n",
            "\n",
            "\n",
            "==================== Logistic Regression ====================\n",
            "=> Confusion Matrix\n",
            "[[40  1]\n",
            " [ 4 59]]\n",
            "=> Classification Report\n",
            "              precision    recall  f1-score   support\n",
            "\n",
            "           0       0.91      0.98      0.94        41\n",
            "           1       0.98      0.94      0.96        63\n",
            "\n",
            "    accuracy                           0.95       104\n",
            "   macro avg       0.95      0.96      0.95       104\n",
            "weighted avg       0.95      0.95      0.95       104\n",
            "\n",
            "=> Accuracy Score\n",
            "0.9519230769230769\n",
            "==================== K-Nearest Neighbor ====================\n",
            "=> Confusion Matrix\n",
            "[[40  1]\n",
            " [ 8 55]]\n",
            "=> Classification Report\n",
            "              precision    recall  f1-score   support\n",
            "\n",
            "           0       0.83      0.98      0.90        41\n",
            "           1       0.98      0.87      0.92        63\n",
            "\n",
            "    accuracy                           0.91       104\n",
            "   macro avg       0.91      0.92      0.91       104\n",
            "weighted avg       0.92      0.91      0.91       104\n",
            "\n",
            "=> Accuracy Score\n",
            "0.9134615384615384\n",
            "\n",
            "\n",
            "\n",
            "==================== Random Forest ====================\n",
            "=> Confusion Matrix\n",
            "[[40  1]\n",
            " [ 4 59]]\n",
            "=> Classification Report\n",
            "              precision    recall  f1-score   support\n",
            "\n",
            "           0       0.91      0.98      0.94        41\n",
            "           1       0.98      0.94      0.96        63\n",
            "\n",
            "    accuracy                           0.95       104\n",
            "   macro avg       0.95      0.96      0.95       104\n",
            "weighted avg       0.95      0.95      0.95       104\n",
            "\n",
            "=> Accuracy Score\n",
            "0.9519230769230769\n"
          ]
        }
      ]
    },
    {
      "cell_type": "markdown",
      "metadata": {
        "id": "4B1ZriYkln7M"
      },
      "source": [
        "# Test input data dan Save Model"
      ]
    },
    {
      "cell_type": "markdown",
      "metadata": {
        "id": "xbZHQCATqEtE"
      },
      "source": [
        "## Save Model"
      ]
    },
    {
      "cell_type": "markdown",
      "metadata": {
        "id": "bo4TSio6rjy-"
      },
      "source": [
        "Karena model random forest menunjukan akurasi yang tinggi, maka kami memilih model tersebut untuk disimpan"
      ]
    },
    {
      "cell_type": "code",
      "metadata": {
        "colab": {
          "base_uri": "https://localhost:8080/"
        },
        "id": "28o3XxHsqmqG",
        "outputId": "93661e39-232f-41b3-f41d-1135a22f4c74"
      },
      "source": [
        "joblib.dump(rf, 'randomforest_model.pkl')"
      ],
      "execution_count": 33,
      "outputs": [
        {
          "output_type": "execute_result",
          "data": {
            "text/plain": [
              "['randomforest_model.pkl']"
            ]
          },
          "metadata": {},
          "execution_count": 33
        }
      ]
    },
    {
      "cell_type": "markdown",
      "metadata": {
        "id": "M5zXVBcBqCf8"
      },
      "source": [
        "## Test input data"
      ]
    },
    {
      "cell_type": "code",
      "metadata": {
        "id": "SzsnUfRIrQ62"
      },
      "source": [
        "#declare path where you saved your model\n",
        "filePath = '/content/randomforest_model.pkl'\n",
        "\n",
        "#open file\n",
        "file = open(filePath, \"rb\")\n",
        "\n",
        "#load the trained model\n",
        "trained_model = joblib.load(file)"
      ],
      "execution_count": 34,
      "outputs": []
    },
    {
      "cell_type": "code",
      "metadata": {
        "colab": {
          "base_uri": "https://localhost:8080/"
        },
        "id": "ZGaW3TNorKJg",
        "outputId": "5eb09ba9-b766-4f0b-9227-d1baa657d453"
      },
      "source": [
        "test_data = [21,\t1,\t0,\t0,\t0,\t0,\t0,\t0,\t0,\t0,\t0,\t0,\t0,\t0,\t0,\t0]\n",
        "test_data = np.array(test_data)\n",
        "test_data = test_data.reshape(1,-1)\n",
        "\n",
        "prediksi = trained_model.predict(test_data)\n",
        "if (prediksi[0] == 0) :\n",
        "  print('Negative')\n",
        "else :\n",
        "  print('Positive')"
      ],
      "execution_count": 35,
      "outputs": [
        {
          "output_type": "stream",
          "name": "stdout",
          "text": [
            "Negative\n"
          ]
        }
      ]
    }
  ]
}